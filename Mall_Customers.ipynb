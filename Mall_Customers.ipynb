{
  "nbformat": 4,
  "nbformat_minor": 0,
  "metadata": {
    "colab": {
      "provenance": [],
      "collapsed_sections": []
    },
    "kernelspec": {
      "name": "python3",
      "display_name": "Python 3"
    },
    "language_info": {
      "name": "python"
    }
  },
  "cells": [
    {
      "cell_type": "code",
      "execution_count": 57,
      "metadata": {
        "colab": {
          "base_uri": "https://localhost:8080/"
        },
        "id": "1pkyPoj2khWB",
        "outputId": "a189ee7a-9229-48c2-d964-7289ef787903"
      },
      "outputs": [
        {
          "output_type": "stream",
          "name": "stdout",
          "text": [
            "\r0% [Working]\r            \rHit:1 http://security.ubuntu.com/ubuntu bionic-security InRelease\n",
            "\r0% [Connecting to archive.ubuntu.com (91.189.91.38)] [Connected to cloud.r-proj\r0% [1 InRelease gpgv 88.7 kB] [Waiting for headers] [Connected to cloud.r-proje\r                                                                               \rHit:2 http://archive.ubuntu.com/ubuntu bionic InRelease\n",
            "\r0% [1 InRelease gpgv 88.7 kB] [Waiting for headers] [Connected to cloud.r-proje\r                                                                               \rHit:3 http://archive.ubuntu.com/ubuntu bionic-updates InRelease\n",
            "\r0% [1 InRelease gpgv 88.7 kB] [Waiting for headers] [Waiting for headers] [Wait\r                                                                               \rHit:4 https://cloud.r-project.org/bin/linux/ubuntu bionic-cran40/ InRelease\n",
            "\r0% [1 InRelease gpgv 88.7 kB] [Waiting for headers] [Waiting for headers] [Wait\r                                                                               \rHit:5 http://archive.ubuntu.com/ubuntu bionic-backports InRelease\n",
            "Hit:6 http://ppa.launchpad.net/c2d4u.team/c2d4u4.0+/ubuntu bionic InRelease\n",
            "Ign:7 https://developer.download.nvidia.com/compute/machine-learning/repos/ubuntu1804/x86_64  InRelease\n",
            "Hit:8 https://developer.download.nvidia.com/compute/cuda/repos/ubuntu1804/x86_64  InRelease\n",
            "Hit:9 https://developer.download.nvidia.com/compute/machine-learning/repos/ubuntu1804/x86_64  Release\n",
            "Hit:10 http://ppa.launchpad.net/cran/libgit2/ubuntu bionic InRelease\n",
            "Hit:11 http://ppa.launchpad.net/deadsnakes/ppa/ubuntu bionic InRelease\n",
            "Hit:12 http://ppa.launchpad.net/graphics-drivers/ppa/ubuntu bionic InRelease\n",
            "Reading package lists... Done\n"
          ]
        }
      ],
      "source": [
        "!apt-get update\n",
        "!apt-get install openjdk-8-jdk-headless -qq > /dev/null\n",
        "!wget -q http://archive.apache.org/dist/spark/spark-3.1.1/spark-3.1.1-bin-hadoop3.2.tgz\n",
        "!tar xf spark-3.1.1-bin-hadoop3.2.tgz\n",
        "!pip install -q findspark\n"
      ]
    },
    {
      "cell_type": "code",
      "source": [
        "import os\n",
        "os.environ[\"JAVA_HOME\"] = \"/usr/lib/jvm/java-8-openjdk-amd64\"\n",
        "os.environ[\"SPARK_HOME\"] = \"/content/spark-3.1.1-bin-hadoop3.2\""
      ],
      "metadata": {
        "id": "2g9abFaalU83"
      },
      "execution_count": 58,
      "outputs": []
    },
    {
      "cell_type": "code",
      "source": [
        "import findspark\n",
        "findspark.init()\n",
        "from pyspark.sql import SparkSession\n",
        "spark = SparkSession.builder.master(\"local[*]\").getOrCreate()\n",
        "spark.conf.set(\"spark.sql.repl.eagerEval.enabled\", True) \n",
        "spark"
      ],
      "metadata": {
        "id": "F4bT1iP8ldAM",
        "outputId": "a7f5bf1e-2674-4947-8420-265485fb48f5",
        "colab": {
          "base_uri": "https://localhost:8080/",
          "height": 219
        }
      },
      "execution_count": 59,
      "outputs": [
        {
          "output_type": "execute_result",
          "data": {
            "text/plain": [
              "<pyspark.sql.session.SparkSession at 0x7f77f90bc090>"
            ],
            "text/html": [
              "\n",
              "            <div>\n",
              "                <p><b>SparkSession - in-memory</b></p>\n",
              "                \n",
              "        <div>\n",
              "            <p><b>SparkContext</b></p>\n",
              "\n",
              "            <p><a href=\"http://3de11cddf39e:4040\">Spark UI</a></p>\n",
              "\n",
              "            <dl>\n",
              "              <dt>Version</dt>\n",
              "                <dd><code>v3.1.1</code></dd>\n",
              "              <dt>Master</dt>\n",
              "                <dd><code>local[*]</code></dd>\n",
              "              <dt>AppName</dt>\n",
              "                <dd><code>pyspark-shell</code></dd>\n",
              "            </dl>\n",
              "        </div>\n",
              "        \n",
              "            </div>\n",
              "        "
            ]
          },
          "metadata": {},
          "execution_count": 59
        }
      ]
    },
    {
      "cell_type": "code",
      "source": [
        "!wget https://raw.githubusercontent.com/amit2001cse/Dataset-1/main/Mall_Customers.csv\n",
        "df = spark.read.csv('/content/Mall_Customers.csv', header=True)\n",
        "df.show(5)"
      ],
      "metadata": {
        "id": "wd1TV2iBlh3u",
        "outputId": "95de4049-d86a-474b-aacf-a0152edb00d3",
        "colab": {
          "base_uri": "https://localhost:8080/"
        }
      },
      "execution_count": 61,
      "outputs": [
        {
          "output_type": "stream",
          "name": "stdout",
          "text": [
            "--2022-09-13 07:49:08--  https://raw.githubusercontent.com/amit2001cse/Dataset-1/main/Mall_Customers.csv\n",
            "Resolving raw.githubusercontent.com (raw.githubusercontent.com)... 185.199.109.133, 185.199.111.133, 185.199.108.133, ...\n",
            "Connecting to raw.githubusercontent.com (raw.githubusercontent.com)|185.199.109.133|:443... connected.\n",
            "HTTP request sent, awaiting response... 200 OK\n",
            "Length: 3979 (3.9K) [text/plain]\n",
            "Saving to: ‘Mall_Customers.csv.9’\n",
            "\n",
            "\rMall_Customers.csv.   0%[                    ]       0  --.-KB/s               \rMall_Customers.csv. 100%[===================>]   3.89K  --.-KB/s    in 0s      \n",
            "\n",
            "2022-09-13 07:49:08 (51.3 MB/s) - ‘Mall_Customers.csv.9’ saved [3979/3979]\n",
            "\n",
            "+----------+------+---+------------------+----------------------+\n",
            "|CustomerID|Gender|Age|Annual Income (k$)|Spending Score (1-100)|\n",
            "+----------+------+---+------------------+----------------------+\n",
            "|         1|  Male| 19|                15|                    39|\n",
            "|         2|  Male| 21|                15|                    81|\n",
            "|         3|Female| 20|                16|                     6|\n",
            "|         4|Female| 23|                16|                    77|\n",
            "|         5|Female| 31|                17|                    40|\n",
            "+----------+------+---+------------------+----------------------+\n",
            "only showing top 5 rows\n",
            "\n"
          ]
        }
      ]
    },
    {
      "cell_type": "code",
      "source": [
        "from pyspark.sql.types import *\n",
        "df.columns\n",
        "# Creating a list of the schema in the format column_name, data_type\n",
        "labels = [\n",
        "    ('CustomerId',IntegerType()),\n",
        "    ('Gender',StringType()),\n",
        "    ('Age',IntegerType()),\n",
        "    ('Annual Income (k$)',IntegerType()),\n",
        "    ('Spending Score (1-100)',IntegerType())\n",
        "]\n",
        "# Creating the schema that will be passed when reading the csv\n",
        "schema = StructType([StructField (x[0], x[1], True) for x in labels])\n",
        "schema"
      ],
      "metadata": {
        "id": "ZtHHG57PommR",
        "outputId": "a79ac236-c829-49ba-c91b-ed7dc5933282",
        "colab": {
          "base_uri": "https://localhost:8080/"
        }
      },
      "execution_count": 62,
      "outputs": [
        {
          "output_type": "execute_result",
          "data": {
            "text/plain": [
              "StructType(List(StructField(CustomerId,IntegerType,true),StructField(Gender,StringType,true),StructField(Age,IntegerType,true),StructField(Annual Income (k$),IntegerType,true),StructField(Spending Score (1-100),IntegerType,true)))"
            ]
          },
          "metadata": {},
          "execution_count": 62
        }
      ]
    },
    {
      "cell_type": "code",
      "source": [
        "df = spark.read.csv('Mall_Customers.csv', header=True,  schema = schema)\n",
        "df.show(5)"
      ],
      "metadata": {
        "id": "rahbDI0npTf-",
        "outputId": "949848b5-e686-4bb1-9883-731a05cbc313",
        "colab": {
          "base_uri": "https://localhost:8080/"
        }
      },
      "execution_count": 63,
      "outputs": [
        {
          "output_type": "stream",
          "name": "stdout",
          "text": [
            "+----------+------+---+------------------+----------------------+\n",
            "|CustomerId|Gender|Age|Annual Income (k$)|Spending Score (1-100)|\n",
            "+----------+------+---+------------------+----------------------+\n",
            "|         1|  Male| 19|                15|                    39|\n",
            "|         2|  Male| 21|                15|                    81|\n",
            "|         3|Female| 20|                16|                     6|\n",
            "|         4|Female| 23|                16|                    77|\n",
            "|         5|Female| 31|                17|                    40|\n",
            "+----------+------+---+------------------+----------------------+\n",
            "only showing top 5 rows\n",
            "\n"
          ]
        }
      ]
    },
    {
      "cell_type": "code",
      "source": [
        "print(df.CustomerId)\n",
        "print(\"*\"*20)\n",
        "df.select(df.CustomerId).show(truncate=False)"
      ],
      "metadata": {
        "id": "HVH-Nb_pp0Ht",
        "outputId": "ff2c2486-d143-4741-f1f5-413ab87c0d97",
        "colab": {
          "base_uri": "https://localhost:8080/"
        }
      },
      "execution_count": 64,
      "outputs": [
        {
          "output_type": "stream",
          "name": "stdout",
          "text": [
            "Column<'CustomerId'>\n",
            "********************\n",
            "+----------+\n",
            "|CustomerId|\n",
            "+----------+\n",
            "|1         |\n",
            "|2         |\n",
            "|3         |\n",
            "|4         |\n",
            "|5         |\n",
            "|6         |\n",
            "|7         |\n",
            "|8         |\n",
            "|9         |\n",
            "|10        |\n",
            "|11        |\n",
            "|12        |\n",
            "|13        |\n",
            "|14        |\n",
            "|15        |\n",
            "|16        |\n",
            "|17        |\n",
            "|18        |\n",
            "|19        |\n",
            "|20        |\n",
            "+----------+\n",
            "only showing top 20 rows\n",
            "\n"
          ]
        }
      ]
    },
    {
      "cell_type": "code",
      "source": [
        "print(df['CustomerId'])\n",
        "print(\"*\"*20)\n",
        "df.select(df['CustomerId']).show(truncate=False)\n",
        "\n",
        "# 3rd method\n",
        "# Column name is case insensitive here\n",
        "from pyspark.sql.functions import col\n",
        "df.select(col('CustomerId')).show(truncate=False)"
      ],
      "metadata": {
        "id": "QZQXgq5JqLvl",
        "outputId": "ff1a2f4f-d137-40f5-d24b-0356abbe3020",
        "colab": {
          "base_uri": "https://localhost:8080/"
        }
      },
      "execution_count": 65,
      "outputs": [
        {
          "output_type": "stream",
          "name": "stdout",
          "text": [
            "Column<'CustomerId'>\n",
            "********************\n",
            "+----------+\n",
            "|CustomerId|\n",
            "+----------+\n",
            "|1         |\n",
            "|2         |\n",
            "|3         |\n",
            "|4         |\n",
            "|5         |\n",
            "|6         |\n",
            "|7         |\n",
            "|8         |\n",
            "|9         |\n",
            "|10        |\n",
            "|11        |\n",
            "|12        |\n",
            "|13        |\n",
            "|14        |\n",
            "|15        |\n",
            "|16        |\n",
            "|17        |\n",
            "|18        |\n",
            "|19        |\n",
            "|20        |\n",
            "+----------+\n",
            "only showing top 20 rows\n",
            "\n",
            "+----------+\n",
            "|CustomerId|\n",
            "+----------+\n",
            "|1         |\n",
            "|2         |\n",
            "|3         |\n",
            "|4         |\n",
            "|5         |\n",
            "|6         |\n",
            "|7         |\n",
            "|8         |\n",
            "|9         |\n",
            "|10        |\n",
            "|11        |\n",
            "|12        |\n",
            "|13        |\n",
            "|14        |\n",
            "|15        |\n",
            "|16        |\n",
            "|17        |\n",
            "|18        |\n",
            "|19        |\n",
            "|20        |\n",
            "+----------+\n",
            "only showing top 20 rows\n",
            "\n"
          ]
        }
      ]
    },
    {
      "cell_type": "code",
      "source": [
        "print(df.CustomerId, df.Gender)\n",
        "print(\"*\"*40)\n",
        "df.select(df.CustomerId, df.Gender).show(truncate=False)\n",
        "#Anoter Way\n",
        "print(df['CustomerId'],df['Gender'])\n",
        "print(\"*\"*40)\n",
        "df.select(df['CustomerId'],df['Gender']).show(truncate=False)\n",
        "#Another Way\n",
        "from pyspark.sql.functions import col\n",
        "df.select(col('CustomerId'),col('Gender')).show(truncate=False)"
      ],
      "metadata": {
        "id": "7rSRVgS6qeUO",
        "outputId": "a18e2667-fb03-4562-80be-f2f598019383",
        "colab": {
          "base_uri": "https://localhost:8080/"
        }
      },
      "execution_count": 66,
      "outputs": [
        {
          "output_type": "stream",
          "name": "stdout",
          "text": [
            "Column<'CustomerId'> Column<'Gender'>\n",
            "****************************************\n",
            "+----------+------+\n",
            "|CustomerId|Gender|\n",
            "+----------+------+\n",
            "|1         |Male  |\n",
            "|2         |Male  |\n",
            "|3         |Female|\n",
            "|4         |Female|\n",
            "|5         |Female|\n",
            "|6         |Female|\n",
            "|7         |Female|\n",
            "|8         |Female|\n",
            "|9         |Male  |\n",
            "|10        |Female|\n",
            "|11        |Male  |\n",
            "|12        |Female|\n",
            "|13        |Female|\n",
            "|14        |Female|\n",
            "|15        |Male  |\n",
            "|16        |Male  |\n",
            "|17        |Female|\n",
            "|18        |Male  |\n",
            "|19        |Male  |\n",
            "|20        |Female|\n",
            "+----------+------+\n",
            "only showing top 20 rows\n",
            "\n",
            "Column<'CustomerId'> Column<'Gender'>\n",
            "****************************************\n",
            "+----------+------+\n",
            "|CustomerId|Gender|\n",
            "+----------+------+\n",
            "|1         |Male  |\n",
            "|2         |Male  |\n",
            "|3         |Female|\n",
            "|4         |Female|\n",
            "|5         |Female|\n",
            "|6         |Female|\n",
            "|7         |Female|\n",
            "|8         |Female|\n",
            "|9         |Male  |\n",
            "|10        |Female|\n",
            "|11        |Male  |\n",
            "|12        |Female|\n",
            "|13        |Female|\n",
            "|14        |Female|\n",
            "|15        |Male  |\n",
            "|16        |Male  |\n",
            "|17        |Female|\n",
            "|18        |Male  |\n",
            "|19        |Male  |\n",
            "|20        |Female|\n",
            "+----------+------+\n",
            "only showing top 20 rows\n",
            "\n",
            "+----------+------+\n",
            "|CustomerId|Gender|\n",
            "+----------+------+\n",
            "|1         |Male  |\n",
            "|2         |Male  |\n",
            "|3         |Female|\n",
            "|4         |Female|\n",
            "|5         |Female|\n",
            "|6         |Female|\n",
            "|7         |Female|\n",
            "|8         |Female|\n",
            "|9         |Male  |\n",
            "|10        |Female|\n",
            "|11        |Male  |\n",
            "|12        |Female|\n",
            "|13        |Female|\n",
            "|14        |Female|\n",
            "|15        |Male  |\n",
            "|16        |Male  |\n",
            "|17        |Female|\n",
            "|18        |Male  |\n",
            "|19        |Male  |\n",
            "|20        |Female|\n",
            "+----------+------+\n",
            "only showing top 20 rows\n",
            "\n"
          ]
        }
      ]
    },
    {
      "cell_type": "code",
      "source": [
        "from pyspark.sql.functions import lit\n",
        "df = df.withColumn('first_column',lit(1))\n",
        "\n",
        "df.show(5,truncate=False)"
      ],
      "metadata": {
        "id": "I6bNQyG4rjIw",
        "outputId": "9595c4ef-74d1-4141-a5e9-1a541e049e44",
        "colab": {
          "base_uri": "https://localhost:8080/"
        }
      },
      "execution_count": 67,
      "outputs": [
        {
          "output_type": "stream",
          "name": "stdout",
          "text": [
            "+----------+------+---+------------------+----------------------+------------+\n",
            "|CustomerId|Gender|Age|Annual Income (k$)|Spending Score (1-100)|first_column|\n",
            "+----------+------+---+------------------+----------------------+------------+\n",
            "|1         |Male  |19 |15                |39                    |1           |\n",
            "|2         |Male  |21 |15                |81                    |1           |\n",
            "|3         |Female|20 |16                |6                     |1           |\n",
            "|4         |Female|23 |16                |77                    |1           |\n",
            "|5         |Female|31 |17                |40                    |1           |\n",
            "+----------+------+---+------------------+----------------------+------------+\n",
            "only showing top 5 rows\n",
            "\n"
          ]
        }
      ]
    },
    {
      "cell_type": "code",
      "source": [
        "df = df.withColumn('second_column', lit(2)) \\\n",
        "      .withColumn('third_column', lit('Third Column'))\n",
        "df.show(5,truncate=False)"
      ],
      "metadata": {
        "id": "dQ_z6aamrrOP",
        "outputId": "42561921-9ad1-4165-cac8-6af46aeeca6d",
        "colab": {
          "base_uri": "https://localhost:8080/"
        }
      },
      "execution_count": 68,
      "outputs": [
        {
          "output_type": "stream",
          "name": "stdout",
          "text": [
            "+----------+------+---+------------------+----------------------+------------+-------------+------------+\n",
            "|CustomerId|Gender|Age|Annual Income (k$)|Spending Score (1-100)|first_column|second_column|third_column|\n",
            "+----------+------+---+------------------+----------------------+------------+-------------+------------+\n",
            "|1         |Male  |19 |15                |39                    |1           |2            |Third Column|\n",
            "|2         |Male  |21 |15                |81                    |1           |2            |Third Column|\n",
            "|3         |Female|20 |16                |6                     |1           |2            |Third Column|\n",
            "|4         |Female|23 |16                |77                    |1           |2            |Third Column|\n",
            "|5         |Female|31 |17                |40                    |1           |2            |Third Column|\n",
            "+----------+------+---+------------------+----------------------+------------+-------------+------------+\n",
            "only showing top 5 rows\n",
            "\n"
          ]
        }
      ]
    },
    {
      "cell_type": "code",
      "source": [
        "from pyspark.sql.functions import concat\n",
        "df = df.withColumn('CustomerId_Age', concat(col(\"CustomerId\"), lit(\" \"), col(\"Age\")))\n",
        "\n",
        "df.show(5,truncate=False)"
      ],
      "metadata": {
        "id": "_7nZo0G-r4nS",
        "outputId": "731759b1-7109-49ce-8966-81a93dfbc2b5",
        "colab": {
          "base_uri": "https://localhost:8080/"
        }
      },
      "execution_count": 69,
      "outputs": [
        {
          "output_type": "stream",
          "name": "stdout",
          "text": [
            "+----------+------+---+------------------+----------------------+------------+-------------+------------+--------------+\n",
            "|CustomerId|Gender|Age|Annual Income (k$)|Spending Score (1-100)|first_column|second_column|third_column|CustomerId_Age|\n",
            "+----------+------+---+------------------+----------------------+------------+-------------+------------+--------------+\n",
            "|1         |Male  |19 |15                |39                    |1           |2            |Third Column|1 19          |\n",
            "|2         |Male  |21 |15                |81                    |1           |2            |Third Column|2 21          |\n",
            "|3         |Female|20 |16                |6                     |1           |2            |Third Column|3 20          |\n",
            "|4         |Female|23 |16                |77                    |1           |2            |Third Column|4 23          |\n",
            "|5         |Female|31 |17                |40                    |1           |2            |Third Column|5 31          |\n",
            "+----------+------+---+------------------+----------------------+------------+-------------+------------+--------------+\n",
            "only showing top 5 rows\n",
            "\n"
          ]
        }
      ]
    },
    {
      "cell_type": "code",
      "source": [
        "#Renaming a column in PySpark\n",
        "df = df.withColumnRenamed('first_column', 'new_column_one') \\\n",
        "      .withColumnRenamed('second_column', 'new_column_two') \\\n",
        "      .withColumnRenamed('third_column', 'new_column_three')\n",
        "df.show(truncate=False)"
      ],
      "metadata": {
        "id": "cuI4sJ1esLjz",
        "outputId": "1e2c2b39-c310-4dc3-dd7c-e28e547767b7",
        "colab": {
          "base_uri": "https://localhost:8080/"
        }
      },
      "execution_count": 70,
      "outputs": [
        {
          "output_type": "stream",
          "name": "stdout",
          "text": [
            "+----------+------+---+------------------+----------------------+--------------+--------------+----------------+--------------+\n",
            "|CustomerId|Gender|Age|Annual Income (k$)|Spending Score (1-100)|new_column_one|new_column_two|new_column_three|CustomerId_Age|\n",
            "+----------+------+---+------------------+----------------------+--------------+--------------+----------------+--------------+\n",
            "|1         |Male  |19 |15                |39                    |1             |2             |Third Column    |1 19          |\n",
            "|2         |Male  |21 |15                |81                    |1             |2             |Third Column    |2 21          |\n",
            "|3         |Female|20 |16                |6                     |1             |2             |Third Column    |3 20          |\n",
            "|4         |Female|23 |16                |77                    |1             |2             |Third Column    |4 23          |\n",
            "|5         |Female|31 |17                |40                    |1             |2             |Third Column    |5 31          |\n",
            "|6         |Female|22 |17                |76                    |1             |2             |Third Column    |6 22          |\n",
            "|7         |Female|35 |18                |6                     |1             |2             |Third Column    |7 35          |\n",
            "|8         |Female|23 |18                |94                    |1             |2             |Third Column    |8 23          |\n",
            "|9         |Male  |64 |19                |3                     |1             |2             |Third Column    |9 64          |\n",
            "|10        |Female|30 |19                |72                    |1             |2             |Third Column    |10 30         |\n",
            "|11        |Male  |67 |19                |14                    |1             |2             |Third Column    |11 67         |\n",
            "|12        |Female|35 |19                |99                    |1             |2             |Third Column    |12 35         |\n",
            "|13        |Female|58 |20                |15                    |1             |2             |Third Column    |13 58         |\n",
            "|14        |Female|24 |20                |77                    |1             |2             |Third Column    |14 24         |\n",
            "|15        |Male  |37 |20                |13                    |1             |2             |Third Column    |15 37         |\n",
            "|16        |Male  |22 |20                |79                    |1             |2             |Third Column    |16 22         |\n",
            "|17        |Female|35 |21                |35                    |1             |2             |Third Column    |17 35         |\n",
            "|18        |Male  |20 |21                |66                    |1             |2             |Third Column    |18 20         |\n",
            "|19        |Male  |52 |23                |29                    |1             |2             |Third Column    |19 52         |\n",
            "|20        |Female|35 |23                |98                    |1             |2             |Third Column    |20 35         |\n",
            "+----------+------+---+------------------+----------------------+--------------+--------------+----------------+--------------+\n",
            "only showing top 20 rows\n",
            "\n"
          ]
        }
      ]
    },
    {
      "cell_type": "code",
      "source": [
        "#Remove columns in PySpark\n",
        "df = df.drop('new_column_one')\n",
        "df.show(5,truncate=False)\n",
        "\n",
        "#Remove multiple columnss in one go\n",
        "df = df.drop('new_column_two') \\\n",
        "      .drop('new_column_three')\n",
        "df.show(5,truncate=False)\n"
      ],
      "metadata": {
        "id": "4f-UcXE5sSBJ",
        "outputId": "97db67d1-55df-4856-eeac-d8ae745aa1e2",
        "colab": {
          "base_uri": "https://localhost:8080/"
        }
      },
      "execution_count": 71,
      "outputs": [
        {
          "output_type": "stream",
          "name": "stdout",
          "text": [
            "+----------+------+---+------------------+----------------------+--------------+----------------+--------------+\n",
            "|CustomerId|Gender|Age|Annual Income (k$)|Spending Score (1-100)|new_column_two|new_column_three|CustomerId_Age|\n",
            "+----------+------+---+------------------+----------------------+--------------+----------------+--------------+\n",
            "|1         |Male  |19 |15                |39                    |2             |Third Column    |1 19          |\n",
            "|2         |Male  |21 |15                |81                    |2             |Third Column    |2 21          |\n",
            "|3         |Female|20 |16                |6                     |2             |Third Column    |3 20          |\n",
            "|4         |Female|23 |16                |77                    |2             |Third Column    |4 23          |\n",
            "|5         |Female|31 |17                |40                    |2             |Third Column    |5 31          |\n",
            "+----------+------+---+------------------+----------------------+--------------+----------------+--------------+\n",
            "only showing top 5 rows\n",
            "\n",
            "+----------+------+---+------------------+----------------------+--------------+\n",
            "|CustomerId|Gender|Age|Annual Income (k$)|Spending Score (1-100)|CustomerId_Age|\n",
            "+----------+------+---+------------------+----------------------+--------------+\n",
            "|1         |Male  |19 |15                |39                    |1 19          |\n",
            "|2         |Male  |21 |15                |81                    |2 21          |\n",
            "|3         |Female|20 |16                |6                     |3 20          |\n",
            "|4         |Female|23 |16                |77                    |4 23          |\n",
            "|5         |Female|31 |17                |40                    |5 31          |\n",
            "+----------+------+---+------------------+----------------------+--------------+\n",
            "only showing top 5 rows\n",
            "\n"
          ]
        }
      ]
    },
    {
      "cell_type": "code",
      "source": [
        "# Filtering rows in PySpark\n",
        "total_count = df.count()\n",
        "print(\"TOTAL RECORD COUNT: \" + str(total_count))\n",
        "male_filtered_count = df.filter(col('Gender')=='Male').count()\n",
        "print(\"Male FILTERED RECORD COUNT: \" + str(male_filtered_count))\n",
        "df.filter(col('Gender')=='Male').show(truncate=False)"
      ],
      "metadata": {
        "id": "w00cu29XsgZm",
        "outputId": "7038ec29-ce60-455d-df5d-081705bfcf8f",
        "colab": {
          "base_uri": "https://localhost:8080/"
        }
      },
      "execution_count": 72,
      "outputs": [
        {
          "output_type": "stream",
          "name": "stdout",
          "text": [
            "TOTAL RECORD COUNT: 200\n",
            "Male FILTERED RECORD COUNT: 88\n",
            "+----------+------+---+------------------+----------------------+--------------+\n",
            "|CustomerId|Gender|Age|Annual Income (k$)|Spending Score (1-100)|CustomerId_Age|\n",
            "+----------+------+---+------------------+----------------------+--------------+\n",
            "|1         |Male  |19 |15                |39                    |1 19          |\n",
            "|2         |Male  |21 |15                |81                    |2 21          |\n",
            "|9         |Male  |64 |19                |3                     |9 64          |\n",
            "|11        |Male  |67 |19                |14                    |11 67         |\n",
            "|15        |Male  |37 |20                |13                    |15 37         |\n",
            "|16        |Male  |22 |20                |79                    |16 22         |\n",
            "|18        |Male  |20 |21                |66                    |18 20         |\n",
            "|19        |Male  |52 |23                |29                    |19 52         |\n",
            "|21        |Male  |35 |24                |35                    |21 35         |\n",
            "|22        |Male  |25 |24                |73                    |22 25         |\n",
            "|24        |Male  |31 |25                |73                    |24 31         |\n",
            "|26        |Male  |29 |28                |82                    |26 29         |\n",
            "|28        |Male  |35 |28                |61                    |28 35         |\n",
            "|31        |Male  |60 |30                |4                     |31 60         |\n",
            "|33        |Male  |53 |33                |4                     |33 53         |\n",
            "|34        |Male  |18 |33                |92                    |34 18         |\n",
            "|42        |Male  |24 |38                |92                    |42 24         |\n",
            "|43        |Male  |48 |39                |36                    |43 48         |\n",
            "|52        |Male  |33 |42                |60                    |52 33         |\n",
            "|54        |Male  |59 |43                |60                    |54 59         |\n",
            "+----------+------+---+------------------+----------------------+--------------+\n",
            "only showing top 20 rows\n",
            "\n"
          ]
        }
      ]
    },
    {
      "cell_type": "code",
      "source": [
        "total_count = df.count()\n",
        "print(\"TOTAL RECORD COUNT: \" + str(total_count))\n",
        "female_filtered_count = df.filter((col('Gender')=='Female') &\n",
        "                                 (col('Age')==21)).count() # Two conditions added here\n",
        "print(\"Female FILTERED RECORD COUNT: \" + str(female_filtered_count))\n",
        "df.filter(col('Gender')=='Female').show(truncate=False)"
      ],
      "metadata": {
        "id": "tJzzBzOEs27B",
        "outputId": "83c23b91-eb7c-428a-e310-22cc3b5a4889",
        "colab": {
          "base_uri": "https://localhost:8080/"
        }
      },
      "execution_count": 73,
      "outputs": [
        {
          "output_type": "stream",
          "name": "stdout",
          "text": [
            "TOTAL RECORD COUNT: 200\n",
            "Female FILTERED RECORD COUNT: 4\n",
            "+----------+------+---+------------------+----------------------+--------------+\n",
            "|CustomerId|Gender|Age|Annual Income (k$)|Spending Score (1-100)|CustomerId_Age|\n",
            "+----------+------+---+------------------+----------------------+--------------+\n",
            "|3         |Female|20 |16                |6                     |3 20          |\n",
            "|4         |Female|23 |16                |77                    |4 23          |\n",
            "|5         |Female|31 |17                |40                    |5 31          |\n",
            "|6         |Female|22 |17                |76                    |6 22          |\n",
            "|7         |Female|35 |18                |6                     |7 35          |\n",
            "|8         |Female|23 |18                |94                    |8 23          |\n",
            "|10        |Female|30 |19                |72                    |10 30         |\n",
            "|12        |Female|35 |19                |99                    |12 35         |\n",
            "|13        |Female|58 |20                |15                    |13 58         |\n",
            "|14        |Female|24 |20                |77                    |14 24         |\n",
            "|17        |Female|35 |21                |35                    |17 35         |\n",
            "|20        |Female|35 |23                |98                    |20 35         |\n",
            "|23        |Female|46 |25                |5                     |23 46         |\n",
            "|25        |Female|54 |28                |14                    |25 54         |\n",
            "|27        |Female|45 |28                |32                    |27 45         |\n",
            "|29        |Female|40 |29                |31                    |29 40         |\n",
            "|30        |Female|23 |29                |87                    |30 23         |\n",
            "|32        |Female|21 |30                |73                    |32 21         |\n",
            "|35        |Female|49 |33                |14                    |35 49         |\n",
            "|36        |Female|21 |33                |81                    |36 21         |\n",
            "+----------+------+---+------------------+----------------------+--------------+\n",
            "only showing top 20 rows\n",
            "\n"
          ]
        }
      ]
    },
    {
      "cell_type": "code",
      "source": [
        "df.select('Gender').distinct().show()\n",
        "\n",
        "df.select('Gender','Annual Income (k$)').distinct().show()"
      ],
      "metadata": {
        "id": "rRSnp8-Qt-Xf",
        "outputId": "65dac31c-fba9-44d6-d9ac-e4b31b2806f7",
        "colab": {
          "base_uri": "https://localhost:8080/"
        }
      },
      "execution_count": 74,
      "outputs": [
        {
          "output_type": "stream",
          "name": "stdout",
          "text": [
            "+------+\n",
            "|Gender|\n",
            "+------+\n",
            "|Female|\n",
            "|  Male|\n",
            "+------+\n",
            "\n",
            "+------+------------------+\n",
            "|Gender|Annual Income (k$)|\n",
            "+------+------------------+\n",
            "|Female|                47|\n",
            "|Female|                20|\n",
            "|Female|                99|\n",
            "|Female|                65|\n",
            "|Female|               101|\n",
            "|Female|                74|\n",
            "|  Male|                73|\n",
            "|Female|                37|\n",
            "|  Male|                15|\n",
            "|  Male|                23|\n",
            "|  Male|                71|\n",
            "|  Male|                21|\n",
            "|  Male|                69|\n",
            "|Female|                38|\n",
            "|Female|               120|\n",
            "|Female|                98|\n",
            "|  Male|                93|\n",
            "|  Male|                33|\n",
            "|Female|                76|\n",
            "|Female|                97|\n",
            "+------+------------------+\n",
            "only showing top 20 rows\n",
            "\n"
          ]
        }
      ]
    },
    {
      "cell_type": "code",
      "source": [
        "# By default the data will be sorted in ascending order\n",
        "df.orderBy('Age').show(truncate=False)\n",
        "\n",
        "# To change the sorting order, you can use the ascending parameter\n",
        "df.orderBy('Age', ascending=False).show(truncate=False)\n",
        "\n",
        "# Using groupBy aand orderBy together\n",
        "df.groupBy(\"Gender\").count().orderBy('count', ascending=False).show(10)"
      ],
      "metadata": {
        "id": "mrejy-fsujaK",
        "outputId": "753da85c-f3ee-42c1-ad97-113b3689b97e",
        "colab": {
          "base_uri": "https://localhost:8080/"
        }
      },
      "execution_count": 75,
      "outputs": [
        {
          "output_type": "stream",
          "name": "stdout",
          "text": [
            "+----------+------+---+------------------+----------------------+--------------+\n",
            "|CustomerId|Gender|Age|Annual Income (k$)|Spending Score (1-100)|CustomerId_Age|\n",
            "+----------+------+---+------------------+----------------------+--------------+\n",
            "|66        |Male  |18 |48                |59                    |66 18         |\n",
            "|92        |Male  |18 |59                |41                    |92 18         |\n",
            "|115       |Female|18 |65                |48                    |115 18        |\n",
            "|34        |Male  |18 |33                |92                    |34 18         |\n",
            "|1         |Male  |19 |15                |39                    |1 19          |\n",
            "|69        |Male  |19 |48                |59                    |69 19         |\n",
            "|139       |Male  |19 |74                |10                    |139 19        |\n",
            "|163       |Male  |19 |81                |5                     |163 19        |\n",
            "|62        |Male  |19 |46                |55                    |62 19         |\n",
            "|114       |Male  |19 |64                |46                    |114 19        |\n",
            "|112       |Female|19 |63                |54                    |112 19        |\n",
            "|116       |Female|19 |65                |50                    |116 19        |\n",
            "|40        |Female|20 |37                |75                    |40 20         |\n",
            "|3         |Female|20 |16                |6                     |3 20          |\n",
            "|18        |Male  |20 |21                |66                    |18 20         |\n",
            "|100       |Male  |20 |61                |49                    |100 20        |\n",
            "|135       |Male  |20 |73                |5                     |135 20        |\n",
            "|2         |Male  |21 |15                |81                    |2 21          |\n",
            "|36        |Female|21 |33                |81                    |36 21         |\n",
            "|32        |Female|21 |30                |73                    |32 21         |\n",
            "+----------+------+---+------------------+----------------------+--------------+\n",
            "only showing top 20 rows\n",
            "\n",
            "+----------+------+---+------------------+----------------------+--------------+\n",
            "|CustomerId|Gender|Age|Annual Income (k$)|Spending Score (1-100)|CustomerId_Age|\n",
            "+----------+------+---+------------------+----------------------+--------------+\n",
            "|61        |Male  |70 |46                |56                    |61 70         |\n",
            "|71        |Male  |70 |49                |55                    |71 70         |\n",
            "|58        |Male  |69 |44                |46                    |58 69         |\n",
            "|68        |Female|68 |48                |48                    |68 68         |\n",
            "|109       |Male  |68 |63                |43                    |109 68        |\n",
            "|91        |Female|68 |59                |55                    |91 68         |\n",
            "|11        |Male  |67 |19                |14                    |11 67         |\n",
            "|103       |Male  |67 |62                |59                    |103 67        |\n",
            "|83        |Male  |67 |54                |41                    |83 67         |\n",
            "|63        |Female|67 |47                |52                    |63 67         |\n",
            "|110       |Male  |66 |63                |48                    |110 66        |\n",
            "|107       |Female|66 |63                |50                    |107 66        |\n",
            "|41        |Female|65 |38                |35                    |41 65         |\n",
            "|111       |Male  |65 |63                |52                    |111 65        |\n",
            "|9         |Male  |64 |19                |3                     |9 64          |\n",
            "|65        |Male  |63 |48                |51                    |65 63         |\n",
            "|117       |Female|63 |65                |43                    |117 63        |\n",
            "|31        |Male  |60 |30                |4                     |31 60         |\n",
            "|73        |Female|60 |50                |49                    |73 60         |\n",
            "|74        |Female|60 |50                |56                    |74 60         |\n",
            "+----------+------+---+------------------+----------------------+--------------+\n",
            "only showing top 20 rows\n",
            "\n",
            "+------+-----+\n",
            "|Gender|count|\n",
            "+------+-----+\n",
            "|Female|  112|\n",
            "|  Male|   88|\n",
            "+------+-----+\n",
            "\n"
          ]
        }
      ]
    }
  ]
}